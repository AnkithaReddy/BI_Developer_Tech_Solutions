{
 "cells": [
  {
   "cell_type": "markdown",
   "metadata": {},
   "source": [
    "B2: ETL script using Python and PETL to standardise the mileage in km. "
   ]
  },
  {
   "cell_type": "markdown",
   "metadata": {},
   "source": [
    "Below program creates a new column with the mileage in kilometers in addition to the old columns.  \n",
    "Program can be modified as nneeded in case the original mileage column needs to be updated. "
   ]
  },
  {
   "cell_type": "code",
   "execution_count": 4,
   "metadata": {
    "collapsed": true
   },
   "outputs": [],
   "source": [
    "import petl as etl"
   ]
  },
  {
   "cell_type": "code",
   "execution_count": 6,
   "metadata": {
    "collapsed": true
   },
   "outputs": [],
   "source": [
    "#Read tsv Data\n",
    "car_ads = etl.fromtsv('donedeal_data_sample.tsv')"
   ]
  },
  {
   "cell_type": "code",
   "execution_count": 5,
   "metadata": {},
   "outputs": [
    {
     "data": {
      "text/html": [
       "<table class='petl'>\n",
       "<thead>\n",
       "<tr>\n",
       "<th>ad</th>\n",
       "<th>date</th>\n",
       "<th>price</th>\n",
       "<th>county</th>\n",
       "<th>make</th>\n",
       "<th>model</th>\n",
       "<th>year</th>\n",
       "<th>colour</th>\n",
       "<th>mileage</th>\n",
       "<th>mileageType</th>\n",
       "<th>mileage_in_km</th>\n",
       "<th>engine_cc</th>\n",
       "<th>body_type</th>\n",
       "<th>fuel_type</th>\n",
       "<th>transmission</th>\n",
       "<th>doors</th>\n",
       "<th>seller_type</th>\n",
       "</tr>\n",
       "</thead>\n",
       "<tbody>\n",
       "<tr>\n",
       "<td>f4ec8a11c20bd4da5322c6cf48f49560</td>\n",
       "<td>2016-08-12</td>\n",
       "<td>1250</td>\n",
       "<td>Tipperary</td>\n",
       "<td>ford</td>\n",
       "<td>focus</td>\n",
       "<td>2004</td>\n",
       "<td>grey</td>\n",
       "<td>182620</td>\n",
       "<td>miles</td>\n",
       "<td style='text-align: right'>293898.40128</td>\n",
       "<td>1800</td>\n",
       "<td>saloon</td>\n",
       "<td>diesel</td>\n",
       "<td>manual</td>\n",
       "<td>4</td>\n",
       "<td>feed</td>\n",
       "</tr>\n",
       "<tr>\n",
       "<td>2deccc36451be8362cd4faa696d5039c</td>\n",
       "<td>2016-07-13</td>\n",
       "<td>11500</td>\n",
       "<td>Limerick</td>\n",
       "<td>mercedes-benz</td>\n",
       "<td>e-class</td>\n",
       "<td>2008</td>\n",
       "<td>other</td>\n",
       "<td>186000</td>\n",
       "<td>kilometres</td>\n",
       "<td>186000</td>\n",
       "<td>2200</td>\n",
       "<td>saloon</td>\n",
       "<td>diesel</td>\n",
       "<td>automatic</td>\n",
       "<td>4</td>\n",
       "<td>feed</td>\n",
       "</tr>\n",
       "<tr>\n",
       "<td>4fd37b51753ef073d242664cbe136b27</td>\n",
       "<td>2016-08-08</td>\n",
       "<td>5150</td>\n",
       "<td>Tipperary</td>\n",
       "<td>toyota</td>\n",
       "<td>yaris</td>\n",
       "<td>2007</td>\n",
       "<td>red</td>\n",
       "<td>65511</td>\n",
       "<td>kilometres</td>\n",
       "<td>65511</td>\n",
       "<td>1000</td>\n",
       "<td>hatchback</td>\n",
       "<td>petrol</td>\n",
       "<td>manual</td>\n",
       "<td>5</td>\n",
       "<td>private</td>\n",
       "</tr>\n",
       "<tr>\n",
       "<td>c4d50c214f33d26b070bea3afaef3f94</td>\n",
       "<td>2016-09-06</td>\n",
       "<td>350</td>\n",
       "<td>Tipperary</td>\n",
       "<td>opel</td>\n",
       "<td>astra</td>\n",
       "<td>2002</td>\n",
       "<td>silver</td>\n",
       "<td>153000</td>\n",
       "<td>miles</td>\n",
       "<td style='text-align: right'>246229.632</td>\n",
       "<td>1400</td>\n",
       "<td>saloon</td>\n",
       "<td>petrol</td>\n",
       "<td>manual</td>\n",
       "<td>4</td>\n",
       "<td>private</td>\n",
       "</tr>\n",
       "<tr>\n",
       "<td>3214bb3fd055ab19a2299f748338e6fd</td>\n",
       "<td>2016-08-16</td>\n",
       "<td>34950</td>\n",
       "<td>Clare</td>\n",
       "<td>audi</td>\n",
       "<td>a6</td>\n",
       "<td>2014</td>\n",
       "<td>black</td>\n",
       "<td>18800</td>\n",
       "<td>miles</td>\n",
       "<td style='text-align: right'>30255.667200000004</td>\n",
       "<td>2000</td>\n",
       "<td>estate</td>\n",
       "<td>diesel</td>\n",
       "<td>manual</td>\n",
       "<td>5</td>\n",
       "<td>trader</td>\n",
       "</tr>\n",
       "</tbody>\n",
       "</table>\n",
       "<p><strong>...</strong></p>"
      ],
      "text/plain": [
       "+------------------------------------+--------------+---------+-------------+-----------------+-----------+--------+----------+----------+--------------+--------------------+-----------+-------------+-----------+--------------+-------+-------------+\n",
       "| ad                                 | date         | price   | county      | make            | model     | year   | colour   | mileage  | mileageType  | mileage_in_km      | engine_cc | body_type   | fuel_type | transmission | doors | seller_type |\n",
       "+====================================+==============+=========+=============+=================+===========+========+==========+==========+==============+====================+===========+=============+===========+==============+=======+=============+\n",
       "| 'f4ec8a11c20bd4da5322c6cf48f49560' | '2016-08-12' | '1250'  | 'Tipperary' | 'ford'          | 'focus'   | '2004' | 'grey'   | '182620' | 'miles'      |       293898.40128 | '1800'    | 'saloon'    | 'diesel'  | 'manual'     | '4'   | 'feed'      |\n",
       "+------------------------------------+--------------+---------+-------------+-----------------+-----------+--------+----------+----------+--------------+--------------------+-----------+-------------+-----------+--------------+-------+-------------+\n",
       "| '2deccc36451be8362cd4faa696d5039c' | '2016-07-13' | '11500' | 'Limerick'  | 'mercedes-benz' | 'e-class' | '2008' | 'other'  | '186000' | 'kilometres' | '186000'           | '2200'    | 'saloon'    | 'diesel'  | 'automatic'  | '4'   | 'feed'      |\n",
       "+------------------------------------+--------------+---------+-------------+-----------------+-----------+--------+----------+----------+--------------+--------------------+-----------+-------------+-----------+--------------+-------+-------------+\n",
       "| '4fd37b51753ef073d242664cbe136b27' | '2016-08-08' | '5150'  | 'Tipperary' | 'toyota'        | 'yaris'   | '2007' | 'red'    | '65511'  | 'kilometres' | '65511'            | '1000'    | 'hatchback' | 'petrol'  | 'manual'     | '5'   | 'private'   |\n",
       "+------------------------------------+--------------+---------+-------------+-----------------+-----------+--------+----------+----------+--------------+--------------------+-----------+-------------+-----------+--------------+-------+-------------+\n",
       "| 'c4d50c214f33d26b070bea3afaef3f94' | '2016-09-06' | '350'   | 'Tipperary' | 'opel'          | 'astra'   | '2002' | 'silver' | '153000' | 'miles'      |         246229.632 | '1400'    | 'saloon'    | 'petrol'  | 'manual'     | '4'   | 'private'   |\n",
       "+------------------------------------+--------------+---------+-------------+-----------------+-----------+--------+----------+----------+--------------+--------------------+-----------+-------------+-----------+--------------+-------+-------------+\n",
       "| '3214bb3fd055ab19a2299f748338e6fd' | '2016-08-16' | '34950' | 'Clare'     | 'audi'          | 'a6'      | '2014' | 'black'  | '18800'  | 'miles'      | 30255.667200000004 | '2000'    | 'estate'    | 'diesel'  | 'manual'     | '5'   | 'trader'    |\n",
       "+------------------------------------+--------------+---------+-------------+-----------------+-----------+--------+----------+----------+--------------+--------------------+-----------+-------------+-----------+--------------+-------+-------------+\n",
       "..."
      ]
     },
     "execution_count": 5,
     "metadata": {},
     "output_type": "execute_result"
    }
   ],
   "source": [
    "#Add a new column mileage_in_km next to the mileageType column. This initially has data that is same as mileage column. \n",
    "car_ads_2 = etl.addfield(car_ads, 'mileage_in_km', lambda rec: rec['mileage'], index=10)#\n",
    "#Modify the data in mileage_in_km column, Convert miles into km by multiplying by 1.6 When mileageType is miles.\n",
    "car_ads_3 = etl.convert(car_ads_2, 'mileage_in_km', \n",
    "                        lambda v, row: float(row.mileage) * 1.609344 ,\n",
    "                        pass_row=True,                        \n",
    "                        where=lambda r: r.mileageType.strip() == 'miles')\n",
    "#Display all data along with the new column standardising mileage into kilometers\n",
    "car_ads_3"
   ]
  },
  {
   "cell_type": "code",
   "execution_count": null,
   "metadata": {
    "collapsed": true
   },
   "outputs": [],
   "source": []
  }
 ],
 "metadata": {
  "kernelspec": {
   "display_name": "Python [default]",
   "language": "python",
   "name": "python3"
  },
  "language_info": {
   "codemirror_mode": {
    "name": "ipython",
    "version": 3
   },
   "file_extension": ".py",
   "mimetype": "text/x-python",
   "name": "python",
   "nbconvert_exporter": "python",
   "pygments_lexer": "ipython3",
   "version": "3.6.3"
  }
 },
 "nbformat": 4,
 "nbformat_minor": 2
}
